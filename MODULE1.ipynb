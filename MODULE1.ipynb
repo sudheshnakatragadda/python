{
  "nbformat": 4,
  "nbformat_minor": 0,
  "metadata": {
    "colab": {
      "name": "MODULE1",
      "provenance": [],
      "collapsed_sections": [],
      "authorship_tag": "ABX9TyOiZud77i4W+or4hSyNSND/",
      "include_colab_link": true
    },
    "kernelspec": {
      "name": "python3",
      "display_name": "Python 3"
    },
    "language_info": {
      "name": "python"
    }
  },
  "cells": [
    {
      "cell_type": "markdown",
      "metadata": {
        "id": "view-in-github",
        "colab_type": "text"
      },
      "source": [
        "<a href=\"https://colab.research.google.com/github/sudheshnakatragadda/python/blob/main/MODULE1.ipynb\" target=\"_parent\"><img src=\"https://colab.research.google.com/assets/colab-badge.svg\" alt=\"Open In Colab\"/></a>"
      ]
    },
    {
      "cell_type": "code",
      "execution_count": 2,
      "metadata": {
        "colab": {
          "base_uri": "https://localhost:8080/"
        },
        "id": "WYpRObIZ96oW",
        "outputId": "3efa01fd-9106-4b9f-afe8-283f8a6da310"
      },
      "outputs": [
        {
          "output_type": "stream",
          "name": "stdout",
          "text": [
            "Enter something : hi\n",
            "You entered hi\n"
          ]
        }
      ],
      "source": [
        "##Accept input from user and store it in variable and print the value\n",
        "variable = input('Enter something : ')\n",
        "print('You entered '+variable)\n"
      ]
    },
    {
      "cell_type": "code",
      "source": [
        "##Use of print statements and use of (.format )for printing different data types\n",
        "a = \"Sudheshna\"\n",
        "b = \"VU21CSEN0101424\"\n",
        "c = \"cse\"\n",
        "d = \"name {} roll {} branch {}\"\n",
        "print(d.format(a,b,c))"
      ],
      "metadata": {
        "id": "7Ch3h9B0CBK8"
      },
      "execution_count": null,
      "outputs": []
    },
    {
      "cell_type": "code",
      "source": [
        "##Take 2 numbers as user input and add, multiply, divide, subtract, remainder and print the output (Same operations on floating point input as well)\n",
        "a=2\n",
        "b=3\n",
        "print(a+b)\n",
        "print(a-b)\n",
        "print(a*b)\n",
        "print(a/b)"
      ],
      "metadata": {
        "colab": {
          "base_uri": "https://localhost:8080/"
        },
        "id": "S757icSsCPbF",
        "outputId": "5a5241a9-4e45-47ce-a89f-e6308c7f284a"
      },
      "execution_count": 6,
      "outputs": [
        {
          "output_type": "stream",
          "name": "stdout",
          "text": [
            "5\n",
            "-1\n",
            "6\n",
            "0.6666666666666666\n"
          ]
        }
      ]
    },
    {
      "cell_type": "code",
      "source": [
        "##Conversion of one unit to another (such as hours to minutes, miles to km and etc)\n",
        "a=int(input(\"enter the time in hours\"))\n",
        "min=a*60\n",
        "print(min)"
      ],
      "metadata": {
        "colab": {
          "base_uri": "https://localhost:8080/"
        },
        "id": "ViutNrCACgun",
        "outputId": "9db6d633-f4ad-4332-93af-7574d8e4751c"
      },
      "execution_count": 7,
      "outputs": [
        {
          "output_type": "stream",
          "name": "stdout",
          "text": [
            "enter the time in hours2\n",
            "120\n"
          ]
        }
      ]
    },
    {
      "cell_type": "code",
      "source": [
        "##Usage of mathematical functions in python like math.ceil, floor, fabs, fmod, trunc, pow, sqrt etc.\n",
        "import math\n",
        "#using math.ceil\n",
        "a=123.456\n",
        "math.ceil(a)"
      ],
      "metadata": {
        "colab": {
          "base_uri": "https://localhost:8080/"
        },
        "id": "feOjukV4CskT",
        "outputId": "c1927699-85e8-4ce8-f73d-ef5fa82106de"
      },
      "execution_count": 9,
      "outputs": [
        {
          "output_type": "execute_result",
          "data": {
            "text/plain": [
              "124"
            ]
          },
          "metadata": {},
          "execution_count": 9
        }
      ]
    },
    {
      "cell_type": "code",
      "source": [
        "import math\n",
        "#using math.floor\n",
        "a=123.456\n",
        "math.floor(a)"
      ],
      "metadata": {
        "colab": {
          "base_uri": "https://localhost:8080/"
        },
        "id": "9Io1UwQdDEj6",
        "outputId": "c1cf5730-61ee-40f2-978e-02042d6fee23"
      },
      "execution_count": 10,
      "outputs": [
        {
          "output_type": "execute_result",
          "data": {
            "text/plain": [
              "123"
            ]
          },
          "metadata": {},
          "execution_count": 10
        }
      ]
    },
    {
      "cell_type": "code",
      "source": [
        "import math\n",
        "#using math.pow\n",
        "math.pow(3,2)"
      ],
      "metadata": {
        "colab": {
          "base_uri": "https://localhost:8080/"
        },
        "id": "xvsJBn45DI3c",
        "outputId": "ab457ea4-cc7a-4d44-bf2a-c0b5f9838ac7"
      },
      "execution_count": 11,
      "outputs": [
        {
          "output_type": "execute_result",
          "data": {
            "text/plain": [
              "9.0"
            ]
          },
          "metadata": {},
          "execution_count": 11
        }
      ]
    },
    {
      "cell_type": "code",
      "source": [
        "import math\n",
        "#using math.sqrt\n",
        "print (math.sqrt(81))\n",
        "print (math.fabs(5.66))\n",
        "print (math.fmod(10,3))\n",
        "print(math.trunc(2.77))\n",
        "print(math.trunc(-99.29))\n"
      ],
      "metadata": {
        "colab": {
          "base_uri": "https://localhost:8080/"
        },
        "id": "-sd6BuwWDOGN",
        "outputId": "b3fc214f-31cc-427a-e169-f33dbdb65abb"
      },
      "execution_count": 12,
      "outputs": [
        {
          "output_type": "stream",
          "name": "stdout",
          "text": [
            "9.0\n",
            "5.66\n",
            "1.0\n",
            "2\n",
            "-99\n"
          ]
        }
      ]
    },
    {
      "cell_type": "code",
      "source": [
        "##Building a mathematical calculator that can perform operations according to user input. Use decision making statement.\n",
        "print (\"Enter 1 for addition\")\n",
        "print (\"Enter 2 for subtraction\")\n",
        "print (\"Enter 3 for multiplication\")\n",
        "print (\"Enter 4 for division\")\n",
        "op = int(input(\"Enter number corresponding to operation:\"))\n",
        "a=int(input(\"Enter a: \"))\n",
        "b=int(input(\"Enter b: \"))\n",
        "if op == 1:\n",
        "  print(a + b)\n",
        "elif op == 2:\n",
        "  print(a - b)\n",
        "elif op == 3:\n",
        "  print(a * b)\n",
        "elif op == 4:\n",
        "  print(a / b)\n",
        "else:\n",
        "  print(\"Error\")"
      ],
      "metadata": {
        "colab": {
          "base_uri": "https://localhost:8080/",
          "height": 356
        },
        "id": "AOZOE0YWDSXp",
        "outputId": "306ca268-16ef-4ee8-a31f-68eafd5ed050"
      },
      "execution_count": 15,
      "outputs": [
        {
          "name": "stdout",
          "output_type": "stream",
          "text": [
            "Enter 1 for addition\n",
            "Enter 2 for subtraction\n",
            "Enter 3 for multiplication\n",
            "Enter 4 for division\n",
            "Enter number corresponding to operation:3\n",
            "Enter a: 2\n",
            "Enter b: \n"
          ]
        },
        {
          "output_type": "error",
          "ename": "ValueError",
          "evalue": "ignored",
          "traceback": [
            "\u001b[0;31m---------------------------------------------------------------------------\u001b[0m",
            "\u001b[0;31mValueError\u001b[0m                                Traceback (most recent call last)",
            "\u001b[0;32m<ipython-input-15-bea9eb5717fe>\u001b[0m in \u001b[0;36m<module>\u001b[0;34m()\u001b[0m\n\u001b[1;32m      6\u001b[0m \u001b[0mop\u001b[0m \u001b[0;34m=\u001b[0m \u001b[0mint\u001b[0m\u001b[0;34m(\u001b[0m\u001b[0minput\u001b[0m\u001b[0;34m(\u001b[0m\u001b[0;34m\"Enter number corresponding to operation:\"\u001b[0m\u001b[0;34m)\u001b[0m\u001b[0;34m)\u001b[0m\u001b[0;34m\u001b[0m\u001b[0;34m\u001b[0m\u001b[0m\n\u001b[1;32m      7\u001b[0m \u001b[0ma\u001b[0m\u001b[0;34m=\u001b[0m\u001b[0mint\u001b[0m\u001b[0;34m(\u001b[0m\u001b[0minput\u001b[0m\u001b[0;34m(\u001b[0m\u001b[0;34m\"Enter a: \"\u001b[0m\u001b[0;34m)\u001b[0m\u001b[0;34m)\u001b[0m\u001b[0;34m\u001b[0m\u001b[0;34m\u001b[0m\u001b[0m\n\u001b[0;32m----> 8\u001b[0;31m \u001b[0mb\u001b[0m\u001b[0;34m=\u001b[0m\u001b[0mint\u001b[0m\u001b[0;34m(\u001b[0m\u001b[0minput\u001b[0m\u001b[0;34m(\u001b[0m\u001b[0;34m\"Enter b: \"\u001b[0m\u001b[0;34m)\u001b[0m\u001b[0;34m)\u001b[0m\u001b[0;34m\u001b[0m\u001b[0;34m\u001b[0m\u001b[0m\n\u001b[0m\u001b[1;32m      9\u001b[0m \u001b[0;32mif\u001b[0m \u001b[0mop\u001b[0m \u001b[0;34m==\u001b[0m \u001b[0;36m1\u001b[0m\u001b[0;34m:\u001b[0m\u001b[0;34m\u001b[0m\u001b[0;34m\u001b[0m\u001b[0m\n\u001b[1;32m     10\u001b[0m   \u001b[0mprint\u001b[0m\u001b[0;34m(\u001b[0m\u001b[0ma\u001b[0m \u001b[0;34m+\u001b[0m \u001b[0mb\u001b[0m\u001b[0;34m)\u001b[0m\u001b[0;34m\u001b[0m\u001b[0;34m\u001b[0m\u001b[0m\n",
            "\u001b[0;31mValueError\u001b[0m: invalid literal for int() with base 10: ''"
          ]
        }
      ]
    },
    {
      "cell_type": "code",
      "source": [
        "##Accepting 5 different subject marks from user and displaying the grade of the student\n",
        "sub1 = int(input(\"Enter marks in sub1: \"))\n",
        "sub2 = int(input(\"Enter marks in sub2: \"))\n",
        "sub3 = int(input(\"Enter marks in sub3: \"))\n",
        "sub4 = int(input(\"Enter marks in sub4: \"))\n",
        "sub5 = int(input(\"Enter marks in sub5: \"))\n",
        "#sub1\n",
        "if sub1 >= 90:\n",
        "  print(\"A in sub1\")\n",
        "elif (90 > sub1 >= 80):\n",
        "  print(\"B in sub1\")\n",
        "elif (80 > sub1 >= 70):\n",
        "  print(\"C in sub1\")\n",
        "elif (70 > sub1 >= 60):\n",
        "  print(\"D in sub1\")\n",
        "elif (60 > sub1 >= 50):\n",
        "  print(\"E in sub1\")\n",
        "else:\n",
        "  print(\"f\")\n",
        "#sub2\n",
        "if sub2 >= 90:\n",
        "  print(\"A in sub2\")\n",
        "elif (90 > sub2 >= 80):\n",
        "  print(\"B in sub2\")\n",
        "elif (80 > sub2 >= 70):\n",
        "  print(\"C in sub2\")\n",
        "elif (70 > sub2 >= 60):\n",
        "  print(\"D in sub2\")\n",
        "elif (60 > sub2 >= 50):\n",
        "  print(\"E in sub2\")\n",
        "else:\n",
        "  print(\"f\")\n",
        "#sub3\n",
        "if sub3 >= 90:\n",
        "  print(\"A in sub3\")\n",
        "elif (90 > sub3 >= 80):\n",
        "   print(\"B in sub3\")\n",
        "elif (80 > sub3 >= 70):\n",
        "  print(\"C in sub3\")\n",
        "elif (70 > sub3 >= 60):\n",
        "  print(\"D in sub3\")\n",
        "elif (60 > sub3 >= 50):\n",
        "  print(\"E in sub3\")\n",
        "else:\n",
        "  print(\"f\")\n",
        "#sub4\n",
        "if sub4 >= 90:\n",
        "  print(\"A in sub4\")\n",
        "elif (90 > sub4 >= 80):\n",
        "  print(\"B in sub4\")\n",
        "elif (80 > sub4 >= 70):\n",
        "  print(\"C in sub4\")\n",
        "elif (70 > sub4 >= 60):\n",
        "  print(\"D in sub4\")\n",
        "elif (60 > sub4 >= 50):\n",
        "  print(\"E in sub4\")\n",
        "else:\n",
        "  print(\"f\")\n",
        "#sub5\n",
        "if sub5 >= 90:\n",
        "  print(\"A in sub5\")\n",
        "elif (90 > sub5 >= 80):\n",
        "   print(\"B in sub5\")\n",
        "elif (80 > sub5 >= 70):\n",
        "  print(\"C in sub5\")\n",
        "elif (70 > sub5 >= 60):\n",
        "  print(\"D in sub5\")\n",
        "elif (60 > sub5 >= 50):\n",
        "  print(\"E in sub5\")\n",
        "else:\n",
        "  print(\"f\")\n"
      ],
      "metadata": {
        "colab": {
          "base_uri": "https://localhost:8080/"
        },
        "id": "9aKKx0MbDhGU",
        "outputId": "06c598f6-bc75-4836-fc2c-3ecff8f84723"
      },
      "execution_count": 16,
      "outputs": [
        {
          "output_type": "stream",
          "name": "stdout",
          "text": [
            "Enter marks in sub1: 34\n",
            "Enter marks in sub2: 45\n",
            "Enter marks in sub3: 67\n",
            "Enter marks in sub4: 22\n",
            "Enter marks in sub5: 98\n",
            "f\n",
            "f\n",
            "D in sub3\n",
            "f\n",
            "A in sub5\n"
          ]
        }
      ]
    },
    {
      "cell_type": "code",
      "source": [
        "## Printing all even numbers, odd numbers, count of even numbers, count of odd numbers within a given range.\n",
        "range = int(input(\"Enter range of numbers: \"))\n",
        "a = 1\n",
        "even = []\n",
        "odd = []\n",
        "while a <= range:\n",
        "  if a % 2 == 0:\n",
        "    even.append (a)\n",
        "    a = a + 1\n",
        "  else:\n",
        "    odd.append (a)\n",
        "    a = a + 1\n",
        "print (\"Even numbers are \",even)\n",
        "print (\"Odd numbers are \",odd)\n",
        "print (\"Number of even number within the given range are \",len(even))\n",
        "print (\"Number of odd number within the given range are \",len(odd))"
      ],
      "metadata": {
        "id": "0kBtC8e_DvFZ"
      },
      "execution_count": null,
      "outputs": []
    },
    {
      "cell_type": "code",
      "source": [
        "##Compute the factorial of a given number. b) Compute GCD of two given numbers. c) Generate Fibonacci series up to N numbers.\n",
        "#factorial\n",
        "num = int(input(\"Enter num \"))\n",
        "factorial = 1\n",
        "for i in range(1,num + 1):\n",
        "  factorial = factorial*i    \n",
        "print(\"The factorial of\",num,\"is\",factorial)"
      ],
      "metadata": {
        "id": "k2Xn-gsdFHS_"
      },
      "execution_count": null,
      "outputs": []
    },
    {
      "cell_type": "code",
      "source": [
        "#gcd\n",
        "num1 = int(input(\"Enter 1st number: \"))\n",
        "num2 = int(input(\"Enter 2nd number: \"))\n",
        "gcd=i\n",
        "while (i <= num1 and i <= num2):\n",
        "if(num1 % i == 0 and num2 % i == 0):\n",
        "gcd = i\n",
        "i = i + 1\n",
        "print(\"GCD is\",gcd)"
      ],
      "metadata": {
        "id": "HFUnTj8mFlsK"
      },
      "execution_count": null,
      "outputs": []
    },
    {
      "cell_type": "code",
      "source": [
        "#Fibonacci series up to N numbers\n",
        "nterms = int(input(\"How many terms? \"))\n",
        "n1, n2 = 0, 1\n",
        "count = 0\n",
        "if nterms <= 0:\n",
        "   print(\"Please enter a positive integer\")\n",
        "elif nterms == 1:\n",
        "   print(\"Fibonacci sequence upto\",nterms,\":\")\n",
        "   print(n1)\n",
        "else:\n",
        "   print(\"Fibonacci sequence:\")\n",
        "   while count < nterms:\n",
        "       print(n1)\n",
        "       nth = n1 + n2\n",
        "       \n",
        "       n1 = n2\n",
        "       n2 = nth\n",
        "       count += 1"
      ],
      "metadata": {
        "id": "-4xnzRUMF3zB"
      },
      "execution_count": null,
      "outputs": []
    },
    {
      "cell_type": "code",
      "source": [
        "##Check whether the given input is a) palindrome b) strong c) perfect\n",
        "#palindrome\n",
        "num=int(input(\"Enter a number:\"))\n",
        "temp=num\n",
        "rev=0\n",
        "while(num>0):\n",
        "    dig=num%10\n",
        "    rev=rev*10+dig\n",
        "    num=num//10\n",
        "if(temp==rev):\n",
        "     print(\"The number is palindrome!\")\n",
        "else:\n",
        "    print(\"Not a palindrome!\")"
      ],
      "metadata": {
        "id": "MRhoNsBDGBss"
      },
      "execution_count": null,
      "outputs": []
    },
    {
      "cell_type": "code",
      "source": [
        "#strong number\n",
        "num = int(input(\"Enter a number: \"))\n",
        "sum = 0\n",
        "temp = num\n",
        "while temp > 0:\n",
        "   digit = temp % 10\n",
        "   sum += digit ** 3\n",
        "   temp //= 10\n",
        "if num == sum:\n",
        "   print(num,\"is an Armstrong number\")\n",
        "else:\n",
        "   print(num,\"is not an Armstrong number\")"
      ],
      "metadata": {
        "id": "fnQjuXhTGUbP"
      },
      "execution_count": null,
      "outputs": []
    },
    {
      "cell_type": "code",
      "source": [
        "#perfect number\n",
        "n = int(input(\"Enter any number: \"))\n",
        "sum1 = 0\n",
        "for i in range(1, n):\n",
        "    if(n % i == 0):\n",
        "        sum1 = sum1 + i\n",
        "if (sum1 == n):\n",
        "    print(\"The number is a Perfect number!\")\n",
        "else:\n",
        "    print(\"The number is not a Perfect number!\")\n",
        "Enter any number: 6\n"
      ],
      "metadata": {
        "id": "3CRhOKDZGd-c"
      },
      "execution_count": null,
      "outputs": []
    },
    {
      "cell_type": "code",
      "source": [
        "##Compute compound interest using loop for a certain principal and interest amount\n",
        "principal=int(input(\"Enter the principle amount:\"))\n",
        "rate=int(input(\"Enter the rate:\"))\n",
        "years=int(input(\"Enter the number of years:\"))\n",
        "n = principal\n",
        "for i in range(years):\n",
        "    n=n+((n*rate)/100)\n",
        "    interest=n-principal\n",
        "print(n)\n",
        "print(interest)"
      ],
      "metadata": {
        "id": "XCPYmSEPGn9B"
      },
      "execution_count": null,
      "outputs": []
    }
  ]
}