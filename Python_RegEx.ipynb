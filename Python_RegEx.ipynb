{
  "nbformat": 4,
  "nbformat_minor": 0,
  "metadata": {
    "colab": {
      "name": "Python RegEx",
      "provenance": [],
      "collapsed_sections": [],
      "authorship_tag": "ABX9TyP+TcCavIyw+4tUnzORCGWE",
      "include_colab_link": true
    },
    "kernelspec": {
      "name": "python3",
      "display_name": "Python 3"
    },
    "language_info": {
      "name": "python"
    }
  },
  "cells": [
    {
      "cell_type": "markdown",
      "metadata": {
        "id": "view-in-github",
        "colab_type": "text"
      },
      "source": [
        "<a href=\"https://colab.research.google.com/github/sudheshnakatragadda/python/blob/main/Python_RegEx.ipynb\" target=\"_parent\"><img src=\"https://colab.research.google.com/assets/colab-badge.svg\" alt=\"Open In Colab\"/></a>"
      ]
    },
    {
      "cell_type": "code",
      "execution_count": 15,
      "metadata": {
        "id": "oL24eKGmMIUX"
      },
      "outputs": [],
      "source": [
        "txt = 'my name is sudheshna.Not Sure Where To Begin\tReturns a match where the specified characters are at the beginning or at the end of a word?'\n"
      ]
    },
    {
      "cell_type": "code",
      "source": [
        "import re\n",
        "x = re.search('name',txt)\n",
        "print(x.start())"
      ],
      "metadata": {
        "colab": {
          "base_uri": "https://localhost:8080/"
        },
        "id": "EW2oQreRMeXF",
        "outputId": "6ab56454-5798-447f-b2e0-acba8cb50295"
      },
      "execution_count": 6,
      "outputs": [
        {
          "output_type": "stream",
          "name": "stdout",
          "text": [
            "3\n"
          ]
        }
      ]
    },
    {
      "cell_type": "code",
      "source": [
        "import re\n",
        "x = re.findall(\"sudh\", txt)\n",
        "print(x)"
      ],
      "metadata": {
        "colab": {
          "base_uri": "https://localhost:8080/"
        },
        "id": "_Sq4WvmvM23r",
        "outputId": "ebdf3901-9cbe-46e6-d38e-c7e11bb9049e"
      },
      "execution_count": 8,
      "outputs": [
        {
          "output_type": "stream",
          "name": "stdout",
          "text": [
            "['sudh']\n"
          ]
        }
      ]
    },
    {
      "cell_type": "code",
      "source": [
        "import re\n",
        "x = re.search(\"\\s\", txt)\n",
        "\n",
        "print(\"Not Sure Where To Begin:\", x.start()) "
      ],
      "metadata": {
        "colab": {
          "base_uri": "https://localhost:8080/"
        },
        "id": "kOWyheSzRXaK",
        "outputId": "fc43b3df-5b42-47f8-a1c3-f489da8b692b"
      },
      "execution_count": 11,
      "outputs": [
        {
          "output_type": "stream",
          "name": "stdout",
          "text": [
            "Not Sure Where To Begin: 3\n"
          ]
        }
      ]
    },
    {
      "cell_type": "code",
      "source": [
        "import re\n",
        "x = re.search(\"specified\", txt)\n",
        "print(x.start())"
      ],
      "metadata": {
        "colab": {
          "base_uri": "https://localhost:8080/"
        },
        "id": "QvxCAfjkRwxJ",
        "outputId": "9895a756-8e68-4d53-d9cc-896a32bee264"
      },
      "execution_count": 18,
      "outputs": [
        {
          "output_type": "stream",
          "name": "stdout",
          "text": [
            "71\n"
          ]
        }
      ]
    },
    {
      "cell_type": "code",
      "source": [
        ""
      ],
      "metadata": {
        "id": "MKXY7UDhSjuw"
      },
      "execution_count": null,
      "outputs": []
    }
  ]
}