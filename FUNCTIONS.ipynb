{
  "nbformat": 4,
  "nbformat_minor": 0,
  "metadata": {
    "colab": {
      "name": "FUNCTIONS",
      "provenance": [],
      "authorship_tag": "ABX9TyN6TkgzH7TQNvSjyPYvCnOO",
      "include_colab_link": true
    },
    "kernelspec": {
      "name": "python3",
      "display_name": "Python 3"
    },
    "language_info": {
      "name": "python"
    }
  },
  "cells": [
    {
      "cell_type": "markdown",
      "metadata": {
        "id": "view-in-github",
        "colab_type": "text"
      },
      "source": [
        "<a href=\"https://colab.research.google.com/github/sudheshnakatragadda/python/blob/main/FUNCTIONS.ipynb\" target=\"_parent\"><img src=\"https://colab.research.google.com/assets/colab-badge.svg\" alt=\"Open In Colab\"/></a>"
      ]
    },
    {
      "cell_type": "code",
      "source": [
        "##CALLING A FUNCTION\n",
        "\n",
        "def sudheshna():\n",
        "  print(\"sudheshna is playing\")\n",
        "sudheshna()"
      ],
      "metadata": {
        "colab": {
          "base_uri": "https://localhost:8080/"
        },
        "id": "Qy2-xDPCikwh",
        "outputId": "9ee8657a-efef-4607-847a-b350da52075d"
      },
      "execution_count": 9,
      "outputs": [
        {
          "output_type": "stream",
          "name": "stdout",
          "text": [
            "sudheshna is playing\n"
          ]
        }
      ]
    },
    {
      "cell_type": "code",
      "source": [
        "##PRINT FIRST AND LAST NAMES (ARGUMENTS)\n",
        "\n",
        "def a(firstname):\n",
        "  print(firstname + \" rao\")\n",
        "a(\"siri\")\n",
        "a(\"tanusha\")\n",
        "a(\"sudheshna\")"
      ],
      "metadata": {
        "colab": {
          "base_uri": "https://localhost:8080/"
        },
        "id": "PwIRD8ODiwLP",
        "outputId": "d70d7dbc-d67b-4b36-afdc-06c6ad059bcc"
      },
      "execution_count": 11,
      "outputs": [
        {
          "output_type": "stream",
          "name": "stdout",
          "text": [
            "siri rao\n",
            "tanusha rao\n",
            "sudheshna rao\n"
          ]
        }
      ]
    },
    {
      "cell_type": "code",
      "source": [
        "##RETURN VALUES\n",
        "\n",
        "def Y(x):\n",
        "  return 5 * x\n",
        "\n",
        "print(Y(3))\n",
        "print(Y(5))\n",
        "print(Y(9))"
      ],
      "metadata": {
        "colab": {
          "base_uri": "https://localhost:8080/"
        },
        "id": "zphW8G2gi15_",
        "outputId": "d2dfbff8-20f8-4b41-e321-29a085589105"
      },
      "execution_count": 13,
      "outputs": [
        {
          "output_type": "stream",
          "name": "stdout",
          "text": [
            "15\n",
            "25\n",
            "45\n"
          ]
        }
      ]
    },
    {
      "cell_type": "code",
      "source": [
        "def X(name, msg=\"Good morning!\"):\n",
        "    \n",
        "    print(\"Hello\", name + ', ' + msg)\n",
        "\n",
        "X(\"Kate\")\n",
        "X(\"Bruce\", \"How do you do?\")\n"
      ],
      "metadata": {
        "colab": {
          "base_uri": "https://localhost:8080/"
        },
        "id": "HvLDeiSIjDPB",
        "outputId": "a49a9cb1-0529-4b17-b41e-6043ca334fb4"
      },
      "execution_count": 15,
      "outputs": [
        {
          "output_type": "stream",
          "name": "stdout",
          "text": [
            "Hello Kate, Good morning!\n",
            "Hello Bruce, How do you do?\n"
          ]
        }
      ]
    },
    {
      "cell_type": "code",
      "source": [
        "def voting(firstname):\n",
        "  print(firstname + \" rao\")\n",
        "voting(\"siri\")\n",
        "voting(\"tanusha\")\n",
        "voting(\"sudheshna\")"
      ],
      "metadata": {
        "colab": {
          "base_uri": "https://localhost:8080/"
        },
        "id": "Dgic0jHJjHUh",
        "outputId": "d8fd3a29-8252-4712-e6a1-569b570fb13c"
      },
      "execution_count": 17,
      "outputs": [
        {
          "output_type": "stream",
          "name": "stdout",
          "text": [
            "siri rao\n",
            "tanusha rao\n",
            "sudheshna rao\n"
          ]
        }
      ]
    },
    {
      "cell_type": "code",
      "source": [
        "age = int(input(\"Enter age of a user: \"))\n",
        "\n",
        "if age >= 18:\n",
        "    print(\"User is eligible for voting: \", age)\n",
        "else:\n",
        "    print(\"User is not eligible for voting: \", age)"
      ],
      "metadata": {
        "colab": {
          "base_uri": "https://localhost:8080/"
        },
        "id": "uRP4k0UijMmw",
        "outputId": "fa211e60-d57e-41eb-c7c3-f6bc3a9c2a90"
      },
      "execution_count": 18,
      "outputs": [
        {
          "output_type": "stream",
          "name": "stdout",
          "text": [
            "Enter age of a user: 14\n",
            "User is not eligible for voting:  14\n"
          ]
        }
      ]
    }
  ]
}