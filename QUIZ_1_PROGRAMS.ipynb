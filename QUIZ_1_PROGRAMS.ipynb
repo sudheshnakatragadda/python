{
  "nbformat": 4,
  "nbformat_minor": 0,
  "metadata": {
    "colab": {
      "name": "QUIZ-1  PROGRAMS",
      "provenance": [],
      "authorship_tag": "ABX9TyNo43ZcBY7kLqiodQP339yN",
      "include_colab_link": true
    },
    "kernelspec": {
      "name": "python3",
      "display_name": "Python 3"
    },
    "language_info": {
      "name": "python"
    }
  },
  "cells": [
    {
      "cell_type": "markdown",
      "metadata": {
        "id": "view-in-github",
        "colab_type": "text"
      },
      "source": [
        "<a href=\"https://colab.research.google.com/github/sudheshnakatragadda/python/blob/main/QUIZ_1_PROGRAMS.ipynb\" target=\"_parent\"><img src=\"https://colab.research.google.com/assets/colab-badge.svg\" alt=\"Open In Colab\"/></a>"
      ]
    },
    {
      "cell_type": "code",
      "execution_count": 2,
      "metadata": {
        "colab": {
          "base_uri": "https://localhost:8080/"
        },
        "id": "nfwe7-S6p1pz",
        "outputId": "417dbcdb-2445-4552-ccfa-8ff7154e3b54"
      },
      "outputs": [
        {
          "output_type": "stream",
          "name": "stdout",
          "text": [
            "The largest number is 14\n"
          ]
        }
      ],
      "source": [
        "##largest among three numbers\n",
        "num1 = 10\n",
        "num2 = 14\n",
        "num3 = 12\n",
        "\n",
        "if (num1 >= num2) and (num1 >= num3):\n",
        "   largest = num1\n",
        "elif (num2 >= num1) and (num2 >= num3):\n",
        "   largest = num2\n",
        "else:\n",
        "   largest = num3\n",
        "\n",
        "print(\"The largest number is\", largest)"
      ]
    },
    {
      "cell_type": "code",
      "source": [
        "##sqaure root of number\n",
        "number = 4\n",
        "sqrt = number * 0.5\n",
        "print(sqrt)"
      ],
      "metadata": {
        "colab": {
          "base_uri": "https://localhost:8080/"
        },
        "id": "PzS7rQeAqCh8",
        "outputId": "ec2650db-9195-4507-d15d-1e094d5f3ba8"
      },
      "execution_count": 4,
      "outputs": [
        {
          "output_type": "stream",
          "name": "stdout",
          "text": [
            "2.0\n"
          ]
        }
      ]
    },
    {
      "cell_type": "code",
      "source": [
        "##swapping of two numbers\n",
        "P = int( input(\"Please enter value for P: \"))  \n",
        "Q = int( input(\"Please enter value for Q: \"))  \n",
        "   \n",
        "# To Swap the values of two variables  \n",
        "P, Q = Q, P  \n",
        "   \n",
        "print (\"The Value of P after swapping: \", P)  \n",
        "print (\"The Value of Q after swapping: \", Q) "
      ],
      "metadata": {
        "colab": {
          "base_uri": "https://localhost:8080/"
        },
        "id": "y6Qk15sUqe-c",
        "outputId": "5139156d-c739-4d78-d3fc-99ba69811974"
      },
      "execution_count": 7,
      "outputs": [
        {
          "output_type": "stream",
          "name": "stdout",
          "text": [
            "Please enter value for P: 2\n",
            "Please enter value for Q: 3\n",
            "The Value of P after swapping:  3\n",
            "The Value of Q after swapping:  2\n"
          ]
        }
      ]
    },
    {
      "cell_type": "code",
      "source": [
        "##Add Black color to the given list in the 4th place. Rainbow = ['Red', 'Orange', 'Yellow', 'Green'] \n",
        "thislist = [\"red\",\"orange\",\"yellow\",\"green\",\"black\"]\n",
        "print(thislist)\n",
        "\n"
      ],
      "metadata": {
        "colab": {
          "base_uri": "https://localhost:8080/"
        },
        "id": "_M9juBUprAxR",
        "outputId": "dbba68eb-b73a-4787-c98d-e410d513a456"
      },
      "execution_count": 8,
      "outputs": [
        {
          "output_type": "stream",
          "name": "stdout",
          "text": [
            "['red', 'orange', 'yellow', 'green', 'black']\n"
          ]
        }
      ]
    }
  ]
}