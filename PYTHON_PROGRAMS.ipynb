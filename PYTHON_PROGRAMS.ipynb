{
  "nbformat": 4,
  "nbformat_minor": 0,
  "metadata": {
    "colab": {
      "name": "PYTHON PROGRAMS",
      "provenance": [],
      "collapsed_sections": [],
      "authorship_tag": "ABX9TyPke1LkjS0be1KkAO6Mm0G0",
      "include_colab_link": true
    },
    "kernelspec": {
      "name": "python3",
      "display_name": "Python 3"
    },
    "language_info": {
      "name": "python"
    }
  },
  "cells": [
    {
      "cell_type": "markdown",
      "metadata": {
        "id": "view-in-github",
        "colab_type": "text"
      },
      "source": [
        "<a href=\"https://colab.research.google.com/github/sudheshnakatragadda/python/blob/main/PYTHON_PROGRAMS.ipynb\" target=\"_parent\"><img src=\"https://colab.research.google.com/assets/colab-badge.svg\" alt=\"Open In Colab\"/></a>"
      ]
    },
    {
      "cell_type": "code",
      "execution_count": 12,
      "metadata": {
        "colab": {
          "base_uri": "https://localhost:8080/"
        },
        "id": "7JH6oENSlYmy",
        "outputId": "82328dab-6ac0-4728-b4aa-cd392f3b7454"
      },
      "outputs": [
        {
          "output_type": "stream",
          "name": "stdout",
          "text": [
            "Enter the base number..2\n",
            "Enter the exponential value..4\n",
            "Result: 16\n"
          ]
        }
      ],
      "source": [
        "##write a python program to find power of number with recursion and without recursion\n",
        "def power(base,exp):#function declaration \n",
        "    if(exp==1):\n",
        "        return(base)\n",
        "    if(exp!=1):\n",
        "        return (base*power(base,exp-1))\n",
        "base=int(input(\"Enter the base number..\"))\n",
        "exp=int(input(\"Enter the exponential value..\"))\n",
        "print(\"Result:\",power(base,exp))"
      ]
    },
    {
      "cell_type": "code",
      "source": [
        "##write a program to sort tuple by total digits \n",
        "def count_digs(tup):\n",
        "       return sum([len(str(ele)) for ele in tup ])\n",
        "  \n",
        "test_list =[(3,4,6,723) , (1,2) , (134,234,34)]\n",
        "  \n",
        "print(\"The original list is : \" + str(test_list))\n",
        "  \n",
        "test_list.sort(key = count_digs)\n",
        "  \n",
        "print(\"Sorted tuples : \" + str(test_list))\n"
      ],
      "metadata": {
        "colab": {
          "base_uri": "https://localhost:8080/"
        },
        "id": "alOrWgIqmgis",
        "outputId": "93d7aefc-b49f-48ab-a468-1230f1fd3f63"
      },
      "execution_count": 14,
      "outputs": [
        {
          "output_type": "stream",
          "name": "stdout",
          "text": [
            "The original list is : [(3, 4, 6, 723), (1, 2), (134, 234, 34)]\n",
            "Sorted tuples : [(1, 2), (3, 4, 6, 723), (134, 234, 34)]\n"
          ]
        }
      ]
    },
    {
      "cell_type": "code",
      "source": [
        "a=eval(input(\"enter the list of tuples \"))\n",
        "b=sorted(a)\n",
        "print(b)"
      ],
      "metadata": {
        "colab": {
          "base_uri": "https://localhost:8080/"
        },
        "id": "dfINX7c2qpc1",
        "outputId": "f389ecfc-de96-41eb-e07c-64117b432801"
      },
      "execution_count": 15,
      "outputs": [
        {
          "output_type": "stream",
          "name": "stdout",
          "text": [
            "enter the list of tuples  [(3, 4, 6, 723), (1, 2), (134, 234, 34)]\n",
            "[(1, 2), (3, 4, 6, 723), (134, 234, 34)]\n"
          ]
        }
      ]
    },
    {
      "cell_type": "code",
      "source": [
        "##take five subjects from the user and display the grade of the student\n",
        "a=int(input(\"enter marks of math\"))\n",
        "b=int(input(\"enter marks of engh\"))\n",
        "c=int(input(\"enter marks of soci\"))\n",
        "d=int(input(\"enter marks of phys\"))\n",
        "e=int(input(\"enter marks of chem\"))\n",
        "avg=a+b+c+d+e/5\n",
        "if(avg>90):\n",
        " print(\"grade A\")\n",
        "elif (avg>=80&avg<90):\n",
        " print(\"grade B\")\n",
        "elif(avg>=70&avg<80):\n",
        " print(\"grade C\")\n",
        "elif(avg>=60&avg<70):\n",
        " print(\"grade D\")\n",
        "else:\n",
        " print(\"grade F \")"
      ],
      "metadata": {
        "colab": {
          "base_uri": "https://localhost:8080/"
        },
        "id": "ow8s90TNq95R",
        "outputId": "ac5b7b6e-a3f1-4be9-c65c-873cf44b4cd4"
      },
      "execution_count": 23,
      "outputs": [
        {
          "output_type": "stream",
          "name": "stdout",
          "text": [
            "enter marks of math98\n",
            "enter marks of engh5\n",
            "enter marks of soci35\n",
            "enter marks of phys78\n",
            "enter marks of chem89\n",
            "grade A\n"
          ]
        }
      ]
    },
    {
      "cell_type": "code",
      "source": [
        "##write a python program that prints 1 if all three given numbers are ascending order.\n",
        "x = int(input(\"Input first number: \"))\n",
        "y = int(input(\"Input second number: \"))\n",
        "z = int(input(\"Input third number: \"))\n",
        "a1 = min(x, y, z)\n",
        "a3 = max(x, y, z)\n",
        "a2 = (x + y + z) - a1 - a3\n",
        "\n",
        "print(\"Numbers in sorted order: \", a1, a2, a3)"
      ],
      "metadata": {
        "colab": {
          "base_uri": "https://localhost:8080/"
        },
        "id": "uK-UW0AqsUf9",
        "outputId": "391aa54b-367a-4568-fa41-4b56a1af4f1b"
      },
      "execution_count": 30,
      "outputs": [
        {
          "output_type": "stream",
          "name": "stdout",
          "text": [
            "Input first number: 1\n",
            "Input second number: 21\n",
            "Input third number: 1\n",
            "Numbers in sorted order:  1 1 21\n"
          ]
        }
      ]
    },
    {
      "cell_type": "code",
      "source": [
        "##check a given number is perfect number are not\n",
        "n = int(input(\"Enter any number: \"))\n",
        "sum1 = 0\n",
        "for i in range(1, n):\n",
        " if(n % i == 0):\n",
        "  sum1 = sum1 + i\n",
        "if (sum1 == n):\n",
        " print(\"The number is a Perfect number!\")\n",
        "else:\n",
        " print(\"The number is not a Perfect number!\")\n"
      ],
      "metadata": {
        "colab": {
          "base_uri": "https://localhost:8080/"
        },
        "id": "YqPvNWh8tvGU",
        "outputId": "4ced03c9-db54-4eec-9a26-601fd9906f32"
      },
      "execution_count": 33,
      "outputs": [
        {
          "output_type": "stream",
          "name": "stdout",
          "text": [
            "Enter any number: 1\n",
            "The number is not a Perfect number!\n"
          ]
        }
      ]
    },
    {
      "cell_type": "code",
      "source": [
        "##check a given string is a pallindrome or not\n",
        "def isPalindrome(s):\n",
        "    return s == s[::-1]\n",
        " \n",
        " \n",
        "# Driver code\n",
        "s = \"malayalam\"\n",
        "ans = isPalindrome(s)\n",
        " \n",
        "if ans:\n",
        "    print(\"Yes\")\n",
        "else:\n",
        "    print(\"No\")"
      ],
      "metadata": {
        "colab": {
          "base_uri": "https://localhost:8080/"
        },
        "id": "Ng7ux-aKubDV",
        "outputId": "f544539e-1ee7-4a09-c647-606c107b1362"
      },
      "execution_count": 35,
      "outputs": [
        {
          "output_type": "stream",
          "name": "stdout",
          "text": [
            "Yes\n"
          ]
        }
      ]
    },
    {
      "cell_type": "code",
      "source": [
        "##find the gcd of two numbers with and without recursion(5,3=1)\n",
        "import math\n",
        "print(\"The gcd of 5 and 3 is : \", end=\"\")\n",
        "print(math.gcd(60, 48))"
      ],
      "metadata": {
        "colab": {
          "base_uri": "https://localhost:8080/"
        },
        "id": "MUr2jo0Avmde",
        "outputId": "ee6cb51a-e8b3-4e35-ec23-1de17ef4eadf"
      },
      "execution_count": 38,
      "outputs": [
        {
          "output_type": "stream",
          "name": "stdout",
          "text": [
            "The gcd of 5 and 3 is : 12\n"
          ]
        }
      ]
    },
    {
      "cell_type": "code",
      "source": [
        "##print sum of even digits in a given number\n",
        "\n"
      ],
      "metadata": {
        "id": "zxWY4QyCv-W1"
      },
      "execution_count": null,
      "outputs": []
    }
  ]
}