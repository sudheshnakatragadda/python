{
  "nbformat": 4,
  "nbformat_minor": 0,
  "metadata": {
    "colab": {
      "name": "SETS",
      "provenance": [],
      "collapsed_sections": [],
      "authorship_tag": "ABX9TyOLMwymWC0EELKH2Tj1b4n2",
      "include_colab_link": true
    },
    "kernelspec": {
      "name": "python3",
      "display_name": "Python 3"
    },
    "language_info": {
      "name": "python"
    }
  },
  "cells": [
    {
      "cell_type": "markdown",
      "metadata": {
        "id": "view-in-github",
        "colab_type": "text"
      },
      "source": [
        "<a href=\"https://colab.research.google.com/github/sudheshnakatragadda/python/blob/main/SETS.ipynb\" target=\"_parent\"><img src=\"https://colab.research.google.com/assets/colab-badge.svg\" alt=\"Open In Colab\"/></a>"
      ]
    },
    {
      "cell_type": "code",
      "execution_count": 4,
      "metadata": {
        "colab": {
          "base_uri": "https://localhost:8080/"
        },
        "id": "Z28A2K8IMER2",
        "outputId": "12a3e3a2-44c5-451e-e45a-ab5d6238a4f9"
      },
      "outputs": [
        {
          "output_type": "stream",
          "name": "stdout",
          "text": [
            "4\n"
          ]
        }
      ],
      "source": [
        "##length of the set\n",
        "thisset = {\"a\", \"b\", \"c\",\"d\"}\n",
        "print(len(thisset))"
      ]
    },
    {
      "cell_type": "code",
      "source": [
        "##string,int,boolean\n",
        "set1 = {\"a\", \"b\", \"c\"}\n",
        "set2 = {1, 5, 7, 9, 3}\n",
        "set3 = {True, False}\n",
        "print(set1)\n",
        "print(set2)\n",
        "print(set3)"
      ],
      "metadata": {
        "colab": {
          "base_uri": "https://localhost:8080/"
        },
        "id": "uGBY3ou2Npzy",
        "outputId": "5dad59e5-8600-4591-f3fa-ad0c29a1a890"
      },
      "execution_count": 10,
      "outputs": [
        {
          "output_type": "stream",
          "name": "stdout",
          "text": [
            "{'c', 'a', 'b'}\n",
            "{1, 3, 5, 7, 9}\n",
            "{False, True}\n"
          ]
        }
      ]
    },
    {
      "cell_type": "code",
      "source": [
        "##type\n",
        "myset = {\"a\", \"b\", \"c\"}\n",
        "\n",
        "print(type(myset))"
      ],
      "metadata": {
        "colab": {
          "base_uri": "https://localhost:8080/"
        },
        "id": "DMLK6XPvOWJH",
        "outputId": "c30fa15f-c86c-469c-d010-cb4aeabc249d"
      },
      "execution_count": 12,
      "outputs": [
        {
          "output_type": "stream",
          "name": "stdout",
          "text": [
            "<class 'set'>\n"
          ]
        }
      ]
    },
    {
      "cell_type": "code",
      "source": [
        "##set constructor\n",
        "thisset = set((\"a\", \"b\", \"c\")) \n",
        "print(thisset)"
      ],
      "metadata": {
        "colab": {
          "base_uri": "https://localhost:8080/"
        },
        "id": "8EX_JB1LOhoA",
        "outputId": "9d22a7fb-33c4-4913-ffa6-9a75098f6855"
      },
      "execution_count": 25,
      "outputs": [
        {
          "output_type": "stream",
          "name": "stdout",
          "text": [
            "{'c', 'a', 'b'}\n"
          ]
        }
      ]
    },
    {
      "cell_type": "code",
      "source": [
        "##ACCESS ITEMS\n",
        "#loops through sets\n",
        "thisset = {\"a\", \"b\", \"c\"}\n",
        "\n",
        "for x in thisset:\n",
        "  print(x)"
      ],
      "metadata": {
        "colab": {
          "base_uri": "https://localhost:8080/"
        },
        "id": "rtI5uLmFQCOC",
        "outputId": "150e7516-24c9-4978-88d6-59e07231cf9e"
      },
      "execution_count": 26,
      "outputs": [
        {
          "output_type": "stream",
          "name": "stdout",
          "text": [
            "c\n",
            "a\n",
            "b\n"
          ]
        }
      ]
    },
    {
      "cell_type": "code",
      "source": [
        "##check if the item are present or not\n",
        "thisset = {\"a\", \"b\", \"c\"}\n",
        "\n",
        "print(\"b\" in thisset)\n"
      ],
      "metadata": {
        "colab": {
          "base_uri": "https://localhost:8080/"
        },
        "id": "34T8TqMFRB-H",
        "outputId": "b91cf0c5-7347-4ecc-a3e8-2c49ea39aed8"
      },
      "execution_count": 28,
      "outputs": [
        {
          "output_type": "stream",
          "name": "stdout",
          "text": [
            "True\n"
          ]
        }
      ]
    },
    {
      "cell_type": "code",
      "source": [
        "##add item\n",
        "thisset = {\"a\", \"b\", \"c\"}\n",
        "\n",
        "thisset.add(\"d\")\n",
        "\n",
        "print(thisset)"
      ],
      "metadata": {
        "colab": {
          "base_uri": "https://localhost:8080/"
        },
        "id": "gFSxPkxYR1Rg",
        "outputId": "c0c8af0b-cc0f-4892-c48e-f8c085417ffd"
      },
      "execution_count": 30,
      "outputs": [
        {
          "output_type": "stream",
          "name": "stdout",
          "text": [
            "{'c', 'd', 'a', 'b'}\n"
          ]
        }
      ]
    },
    {
      "cell_type": "code",
      "source": [
        "##remove item\n",
        "thisset = {\"a\", \"b\", \"c\"}\n",
        "\n",
        "thisset.remove(\"b\")\n",
        "\n",
        "print(thisset)"
      ],
      "metadata": {
        "colab": {
          "base_uri": "https://localhost:8080/"
        },
        "id": "SEJ1JTctSmxK",
        "outputId": "a7a88428-cd0f-4f99-98aa-3f2e873b874b"
      },
      "execution_count": 32,
      "outputs": [
        {
          "output_type": "stream",
          "name": "stdout",
          "text": [
            "{'c', 'a'}\n"
          ]
        }
      ]
    },
    {
      "cell_type": "code",
      "source": [
        "##loop\n",
        "thisset = {\"a\", \"b\", \"c\"}\n",
        "\n",
        "for x in thisset:\n",
        "  print(x)"
      ],
      "metadata": {
        "colab": {
          "base_uri": "https://localhost:8080/"
        },
        "id": "S_WbGtczTAlR",
        "outputId": "60b38048-1a68-4fb9-f843-818146a1905b"
      },
      "execution_count": 34,
      "outputs": [
        {
          "output_type": "stream",
          "name": "stdout",
          "text": [
            "c\n",
            "a\n",
            "b\n"
          ]
        }
      ]
    },
    {
      "cell_type": "code",
      "source": [
        "##join\n",
        "set1 = {\"a\", \"b\" , \"c\"}\n",
        "set2 = {1, 2, 3}\n",
        "\n",
        "set3 = set1.union(set2)\n",
        "print(set3)"
      ],
      "metadata": {
        "colab": {
          "base_uri": "https://localhost:8080/"
        },
        "id": "VnZY8ngrTMPx",
        "outputId": "32e563bb-51c4-4a52-9f30-2676d0f564ad"
      },
      "execution_count": 36,
      "outputs": [
        {
          "output_type": "stream",
          "name": "stdout",
          "text": [
            "{'c', 1, 2, 3, 'a', 'b'}\n"
          ]
        }
      ]
    },
    {
      "cell_type": "code",
      "source": [
        "##"
      ],
      "metadata": {
        "id": "_VgA2gheTXKh"
      },
      "execution_count": null,
      "outputs": []
    }
  ]
}