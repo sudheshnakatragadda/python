{
  "nbformat": 4,
  "nbformat_minor": 0,
  "metadata": {
    "colab": {
      "name": "SETS",
      "provenance": [],
      "collapsed_sections": [],
      "authorship_tag": "ABX9TyMguMaRDsr/eN9D2FUvInZT",
      "include_colab_link": true
    },
    "kernelspec": {
      "name": "python3",
      "display_name": "Python 3"
    },
    "language_info": {
      "name": "python"
    }
  },
  "cells": [
    {
      "cell_type": "markdown",
      "metadata": {
        "id": "view-in-github",
        "colab_type": "text"
      },
      "source": [
        "<a href=\"https://colab.research.google.com/github/sudheshnakatragadda/python/blob/main/SETS.ipynb\" target=\"_parent\"><img src=\"https://colab.research.google.com/assets/colab-badge.svg\" alt=\"Open In Colab\"/></a>"
      ]
    },
    {
      "cell_type": "code",
      "execution_count": 4,
      "metadata": {
        "colab": {
          "base_uri": "https://localhost:8080/"
        },
        "id": "Z28A2K8IMER2",
        "outputId": "12a3e3a2-44c5-451e-e45a-ab5d6238a4f9"
      },
      "outputs": [
        {
          "output_type": "stream",
          "name": "stdout",
          "text": [
            "4\n"
          ]
        }
      ],
      "source": [
        "##length of the set\n",
        "thisset = {\"a\", \"b\", \"c\",\"d\"}\n",
        "print(len(thisset))"
      ]
    },
    {
      "cell_type": "code",
      "source": [
        "##string,int,boolean\n",
        "set1 = {\"a\", \"b\", \"c\"}\n",
        "set2 = {1, 5, 7, 9, 3}\n",
        "set3 = {True, False}\n",
        "print(set1)\n",
        "print(set2)\n",
        "print(set3)"
      ],
      "metadata": {
        "colab": {
          "base_uri": "https://localhost:8080/"
        },
        "id": "uGBY3ou2Npzy",
        "outputId": "5dad59e5-8600-4591-f3fa-ad0c29a1a890"
      },
      "execution_count": 10,
      "outputs": [
        {
          "output_type": "stream",
          "name": "stdout",
          "text": [
            "{'c', 'a', 'b'}\n",
            "{1, 3, 5, 7, 9}\n",
            "{False, True}\n"
          ]
        }
      ]
    },
    {
      "cell_type": "code",
      "source": [
        "##type\n",
        "myset = {\"a\", \"b\", \"c\"}\n",
        "\n",
        "print(type(myset))"
      ],
      "metadata": {
        "colab": {
          "base_uri": "https://localhost:8080/"
        },
        "id": "DMLK6XPvOWJH",
        "outputId": "c30fa15f-c86c-469c-d010-cb4aeabc249d"
      },
      "execution_count": 12,
      "outputs": [
        {
          "output_type": "stream",
          "name": "stdout",
          "text": [
            "<class 'set'>\n"
          ]
        }
      ]
    },
    {
      "cell_type": "code",
      "source": [
        "##set constructor\n",
        "thisset = set((\"a\", \"b\", \"c\")) \n",
        "print(thisset)"
      ],
      "metadata": {
        "colab": {
          "base_uri": "https://localhost:8080/"
        },
        "id": "8EX_JB1LOhoA",
        "outputId": "ea460f91-574d-47ad-9263-fad96792fedb"
      },
      "execution_count": 18,
      "outputs": [
        {
          "output_type": "stream",
          "name": "stdout",
          "text": [
            "{'c', 'a', 'b'}\n"
          ]
        }
      ]
    }
  ]
}