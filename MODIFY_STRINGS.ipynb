{
  "nbformat": 4,
  "nbformat_minor": 0,
  "metadata": {
    "colab": {
      "name": "MODIFY STRINGS",
      "provenance": [],
      "authorship_tag": "ABX9TyMRd+y2em3n6Gkrs3qE7T0I",
      "include_colab_link": true
    },
    "kernelspec": {
      "name": "python3",
      "display_name": "Python 3"
    },
    "language_info": {
      "name": "python"
    }
  },
  "cells": [
    {
      "cell_type": "markdown",
      "metadata": {
        "id": "view-in-github",
        "colab_type": "text"
      },
      "source": [
        "<a href=\"https://colab.research.google.com/github/sudheshnakatragadda/python/blob/main/MODIFY_STRINGS.ipynb\" target=\"_parent\"><img src=\"https://colab.research.google.com/assets/colab-badge.svg\" alt=\"Open In Colab\"/></a>"
      ]
    },
    {
      "cell_type": "code",
      "execution_count": 2,
      "metadata": {
        "colab": {
          "base_uri": "https://localhost:8080/"
        },
        "id": "A80Pk9RnXsDD",
        "outputId": "9323e51e-6d99-4fa5-dfa3-8a690082059d"
      },
      "outputs": [
        {
          "output_type": "stream",
          "name": "stdout",
          "text": [
            "RRR HAS BEEN RELEASED\n"
          ]
        }
      ],
      "source": [
        "## modify strings\n",
        "a=\"RRR has been released\"\n",
        "print(a.upper())"
      ]
    },
    {
      "cell_type": "code",
      "source": [
        "## remove whitespace\n",
        "a=\"  RRR has been released\"\n",
        "print(a.strip()) "
      ],
      "metadata": {
        "colab": {
          "base_uri": "https://localhost:8080/"
        },
        "id": "1oJx-lpdY7ui",
        "outputId": "637e3787-7b80-4e03-a582-e37000738b68"
      },
      "execution_count": 8,
      "outputs": [
        {
          "output_type": "stream",
          "name": "stdout",
          "text": [
            "RRR has been released\n"
          ]
        }
      ]
    },
    {
      "cell_type": "code",
      "source": [
        "## replace string\n",
        "a=\"RRR has been released\"\n",
        "print(a.replace(\"RRR\",\"Pokiri\"))"
      ],
      "metadata": {
        "colab": {
          "base_uri": "https://localhost:8080/"
        },
        "id": "gKFNTxw5aStM",
        "outputId": "b6b8aad3-b626-4dfc-fe93-2e83678a1355"
      },
      "execution_count": 11,
      "outputs": [
        {
          "output_type": "stream",
          "name": "stdout",
          "text": [
            "Pokiri has been released\n"
          ]
        }
      ]
    },
    {
      "cell_type": "code",
      "source": [
        "## split string\n",
        "a=\"RRR has been released\"\n",
        "print(a.split())\n",
        "c=\"RRR,has been released\"\n",
        "print(c.split(\",\"))"
      ],
      "metadata": {
        "colab": {
          "base_uri": "https://localhost:8080/"
        },
        "id": "M-24bCw3a887",
        "outputId": "1a0e3c49-b1b1-4d92-828a-77f6d5f1ebf2"
      },
      "execution_count": 22,
      "outputs": [
        {
          "output_type": "stream",
          "name": "stdout",
          "text": [
            "['RRR', 'has', 'been', 'released']\n",
            "['RRR', 'has been released']\n"
          ]
        }
      ]
    },
    {
      "cell_type": "code",
      "source": [
        "## cancatination\n",
        "a=\"RRR has been released\"\n",
        "b=\"I went to the movie with friends\"\n",
        "c= a + \" \" + b\n",
        "print(c)\n"
      ],
      "metadata": {
        "colab": {
          "base_uri": "https://localhost:8080/"
        },
        "id": "EC6W51RfeAk7",
        "outputId": "b93862f6-aa84-49d0-9daa-8e750f17b7ca"
      },
      "execution_count": 31,
      "outputs": [
        {
          "output_type": "stream",
          "name": "stdout",
          "text": [
            "RRR has been released I went to the movie with friends\n"
          ]
        }
      ]
    },
    {
      "cell_type": "code",
      "source": [
        "a=\"RRR has been released\"\n",
        "b=\"I went to the movie with friends\"\n",
        "#print(a+\" \"+b)\n",
        "#print(\"% a % b\" %(a,b))\n",
        "a=123\n",
        "b=\"hello {}\"\n",
        "print(b.format(a,b))\n",
        "\n"
      ],
      "metadata": {
        "colab": {
          "base_uri": "https://localhost:8080/"
        },
        "id": "z1-HjymWf9ir",
        "outputId": "fe3c1561-83ac-4935-e3e2-9b5f8f514dc4"
      },
      "execution_count": 40,
      "outputs": [
        {
          "output_type": "stream",
          "name": "stdout",
          "text": [
            "hello 123\n"
          ]
        }
      ]
    },
    {
      "cell_type": "code",
      "source": [
        "price=150\n",
        "quantity=3\n",
        "item=1\n",
        "name=\"cocacola\"\n",
        "myorder=\"I bought {3} with {0} having {1} and purchase {2}\"\n",
        "print(myorder.format(price,quantity,item,name))"
      ],
      "metadata": {
        "colab": {
          "base_uri": "https://localhost:8080/"
        },
        "id": "gU4imwnohef4",
        "outputId": "3209d9e0-f85f-4547-c3f6-7a8a74be75bb"
      },
      "execution_count": 45,
      "outputs": [
        {
          "output_type": "stream",
          "name": "stdout",
          "text": [
            "I bought cocacola with 150 having 3 and purchase 1\n"
          ]
        }
      ]
    },
    {
      "cell_type": "code",
      "source": [
        "sub1=int(input(\"enter math marks\"))\n",
        "sub2=int(input(\"enter eng marks\"))\n",
        "sub3=int(input(\"enter cse marks\"))\n",
        "sub4=int(input(\"enter chem marks\"))\n",
        "marks=\"my math marks are {0}, eng marks are {1}, cse marks are {2}, chem marks are {3}\"\n",
        "print(marks.format(sub1,sub2,sub3,sub4))"
      ],
      "metadata": {
        "colab": {
          "base_uri": "https://localhost:8080/"
        },
        "id": "dUtovyt8jkSc",
        "outputId": "6711f2a2-23e9-4f0f-a2a2-bc8c99a7b0dd"
      },
      "execution_count": 48,
      "outputs": [
        {
          "output_type": "stream",
          "name": "stdout",
          "text": [
            "enter math marks1\n",
            "enter eng marks2\n",
            "enter cse marks3\n",
            "enter chem marks4\n",
            "my math marks are 1, eng marks are 2, cse marks are 3, chem marks are 4\n"
          ]
        }
      ]
    },
    {
      "cell_type": "code",
      "source": [
        "## characters\n",
        "a=\"hello sudheshna \\\"hi\\\"\"\n",
        "print(a)\n",
        "b=\"hey sudheshna \\\\hello\"\n",
        "print(b)\n",
        "c=\"hello \\nsudheshna\"\n",
        "print(c)\n",
        "c=\"hello \\nsudheshna\"\n",
        "print(c)"
      ],
      "metadata": {
        "colab": {
          "base_uri": "https://localhost:8080/"
        },
        "id": "c4774dBTlq_f",
        "outputId": "c2acd367-50d9-4d5d-f043-71ad2c64b583"
      },
      "execution_count": 55,
      "outputs": [
        {
          "output_type": "stream",
          "name": "stdout",
          "text": [
            "hello sudheshna \"hi\"\n",
            "hey sudheshna \\hello\n",
            "hello \n",
            "sudheshna\n",
            "hello \n",
            "sudheshna\n"
          ]
        }
      ]
    },
    {
      "cell_type": "code",
      "source": [
        "#octal\n",
        "a=\"\\110\\145\\154\\154\\157\"\n",
        "print(a)"
      ],
      "metadata": {
        "colab": {
          "base_uri": "https://localhost:8080/"
        },
        "id": "vKlJUEVxmbvs",
        "outputId": "61cc929f-fe3d-413e-82e0-dc3076f42a15"
      },
      "execution_count": 60,
      "outputs": [
        {
          "output_type": "stream",
          "name": "stdout",
          "text": [
            "Hello\n"
          ]
        }
      ]
    },
    {
      "cell_type": "code",
      "source": [
        "## string methods\n",
        "a=\"sudheshna\"\n",
        "b= a.capitalize()\n",
        "print(b)\n"
      ],
      "metadata": {
        "colab": {
          "base_uri": "https://localhost:8080/"
        },
        "id": "QNhw_o7ep5rf",
        "outputId": "2808ad48-1f76-4397-e3d2-0c1938e41c3f"
      },
      "execution_count": 65,
      "outputs": [
        {
          "output_type": "stream",
          "name": "stdout",
          "text": [
            "Sudheshna\n"
          ]
        }
      ]
    },
    {
      "cell_type": "code",
      "source": [
        "a=\"Sudheshna\"\n",
        "b=a.casefold()\n",
        "print(b)"
      ],
      "metadata": {
        "colab": {
          "base_uri": "https://localhost:8080/"
        },
        "id": "1cr5mJm0rEvw",
        "outputId": "b0a82c3a-37b4-4452-b425-571725b63614"
      },
      "execution_count": 67,
      "outputs": [
        {
          "output_type": "stream",
          "name": "stdout",
          "text": [
            "sudheshna\n"
          ]
        }
      ]
    },
    {
      "cell_type": "code",
      "source": [
        "a=\"sudheshna\"\n",
        "b=a.center(30)\n",
        "print(b)"
      ],
      "metadata": {
        "colab": {
          "base_uri": "https://localhost:8080/"
        },
        "id": "mIAHQROorSgN",
        "outputId": "992e043d-85e1-4de3-8f3d-67c6930946ff"
      },
      "execution_count": 72,
      "outputs": [
        {
          "output_type": "stream",
          "name": "stdout",
          "text": [
            "          sudheshna           \n"
          ]
        }
      ]
    },
    {
      "cell_type": "code",
      "source": [
        "a=\"hello world welcome to my world\"\n",
        "b=a.count(\"\")\n",
        "print(b)"
      ],
      "metadata": {
        "colab": {
          "base_uri": "https://localhost:8080/"
        },
        "id": "akxKvO6Irp4t",
        "outputId": "96d692d2-82a9-4dca-b752-f2f1c1c92516"
      },
      "execution_count": 76,
      "outputs": [
        {
          "output_type": "stream",
          "name": "stdout",
          "text": [
            "32\n"
          ]
        }
      ]
    },
    {
      "cell_type": "code",
      "source": [
        ""
      ],
      "metadata": {
        "id": "aR_NjF39sUTN"
      },
      "execution_count": null,
      "outputs": []
    }
  ]
}