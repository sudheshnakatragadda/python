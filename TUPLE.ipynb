{
  "nbformat": 4,
  "nbformat_minor": 0,
  "metadata": {
    "colab": {
      "name": "TUPLE",
      "provenance": [],
      "authorship_tag": "ABX9TyOXDEm/cABcrFHf0a3akk6v",
      "include_colab_link": true
    },
    "kernelspec": {
      "name": "python3",
      "display_name": "Python 3"
    },
    "language_info": {
      "name": "python"
    }
  },
  "cells": [
    {
      "cell_type": "markdown",
      "metadata": {
        "id": "view-in-github",
        "colab_type": "text"
      },
      "source": [
        "<a href=\"https://colab.research.google.com/github/sudheshnakatragadda/python/blob/main/TUPLE.ipynb\" target=\"_parent\"><img src=\"https://colab.research.google.com/assets/colab-badge.svg\" alt=\"Open In Colab\"/></a>"
      ]
    },
    {
      "cell_type": "code",
      "execution_count": 9,
      "metadata": {
        "colab": {
          "base_uri": "https://localhost:8080/"
        },
        "id": "SUxuWUlKvdy7",
        "outputId": "94e61dda-3a0a-446c-8be4-c5551d913b53"
      },
      "outputs": [
        {
          "output_type": "stream",
          "name": "stdout",
          "text": [
            "('sudh', 'jyo', 'siri')\n"
          ]
        }
      ],
      "source": [
        "##tuple\n",
        "thistuple = (\"sudh\", \"jyo\", \"siri\")\n",
        "print(thistuple)"
      ]
    },
    {
      "cell_type": "code",
      "source": [
        "##tuple length\n",
        "thistuple = (\"1\",\"2\",\"3\",\"4\",\"5\")\n",
        "print(len(thistuple))"
      ],
      "metadata": {
        "colab": {
          "base_uri": "https://localhost:8080/"
        },
        "id": "ikv_42vLxpvX",
        "outputId": "7d9e3e69-0fe7-4be7-ba83-c1c84693dea1"
      },
      "execution_count": 12,
      "outputs": [
        {
          "output_type": "stream",
          "name": "stdout",
          "text": [
            "5\n"
          ]
        }
      ]
    },
    {
      "cell_type": "code",
      "source": [
        "## tuple with one item\n",
        "thistuple = (\"dairymilk\",)\n",
        "print(type(thistuple))\n",
        "\n",
        "#NOT a tuple\n",
        "thistuple = (\"dairymilk\")\n",
        "print(type(thistuple))"
      ],
      "metadata": {
        "colab": {
          "base_uri": "https://localhost:8080/"
        },
        "id": "HXEouK47x6xG",
        "outputId": "e7c18a1c-3e8e-4d0d-cce1-574659de36a9"
      },
      "execution_count": 16,
      "outputs": [
        {
          "output_type": "stream",
          "name": "stdout",
          "text": [
            "<class 'tuple'>\n",
            "<class 'str'>\n"
          ]
        }
      ]
    },
    {
      "cell_type": "code",
      "source": [
        "## ACCESS TUPLE\n",
        "thistuple = (\"physics\", \"english\", \"maths\")\n",
        "print(thistuple[0])"
      ],
      "metadata": {
        "colab": {
          "base_uri": "https://localhost:8080/"
        },
        "id": "fdGDj00dyqBG",
        "outputId": "785bccc9-e970-4d5a-c837-7dd439c0c07d"
      },
      "execution_count": 20,
      "outputs": [
        {
          "output_type": "stream",
          "name": "stdout",
          "text": [
            "physics\n"
          ]
        }
      ]
    },
    {
      "cell_type": "code",
      "source": [
        "## NEGATIVE INDEXING\n",
        "thistuple = (\"physics\", \"english\", \"maths\")\n",
        "print(thistuple[-3])"
      ],
      "metadata": {
        "colab": {
          "base_uri": "https://localhost:8080/"
        },
        "id": "JBiDqAiqzfzm",
        "outputId": "2e762d4f-950a-4508-ae27-f5b30d511e60"
      },
      "execution_count": 23,
      "outputs": [
        {
          "output_type": "stream",
          "name": "stdout",
          "text": [
            "physics\n"
          ]
        }
      ]
    },
    {
      "cell_type": "code",
      "source": [
        "##RANGE OF INDEXES\n",
        "thistuple = (\"apple\", \"banana\", \"cherry\", \"orange\", \"kiwi\", \"melon\", \"mango\")\n",
        "print(thistuple[2:5])"
      ],
      "metadata": {
        "colab": {
          "base_uri": "https://localhost:8080/"
        },
        "id": "Bc352HTd0HTm",
        "outputId": "6344edd0-8aa9-4eb2-fbd5-29cdbe1fb6ac"
      },
      "execution_count": 25,
      "outputs": [
        {
          "output_type": "stream",
          "name": "stdout",
          "text": [
            "('cherry', 'orange', 'kiwi')\n"
          ]
        }
      ]
    },
    {
      "cell_type": "code",
      "source": [
        "##\n",
        "thistuple = (\"A\",\"B\",\"C\",\"D\",\"E\",\"F\")\n",
        "print(thistuple[:4])"
      ],
      "metadata": {
        "colab": {
          "base_uri": "https://localhost:8080/"
        },
        "id": "ibTznzuj1me2",
        "outputId": "b1ee3c56-7659-43c6-d7ac-c741de3cf726"
      },
      "execution_count": 27,
      "outputs": [
        {
          "output_type": "stream",
          "name": "stdout",
          "text": [
            "('A', 'B', 'C', 'D')\n"
          ]
        }
      ]
    },
    {
      "cell_type": "code",
      "source": [
        "##\n",
        "thistuple = (\"A\",\"B\",\"C\",\"D\",\"E\",\"F\")\n",
        "print(thistuple[4:])"
      ],
      "metadata": {
        "colab": {
          "base_uri": "https://localhost:8080/"
        },
        "id": "9rW7QI_-3qTr",
        "outputId": "34c6b204-ff4f-4543-cfc9-123cf75d07c2"
      },
      "execution_count": 29,
      "outputs": [
        {
          "output_type": "stream",
          "name": "stdout",
          "text": [
            "('E', 'F')\n"
          ]
        }
      ]
    },
    {
      "cell_type": "code",
      "source": [
        "##Check if \"A\" is present in the tuple\n",
        "thistuple = (\"A\",\"B\",\"C\")\n",
        "if \"A\" in thistuple:\n",
        "  print(\"Yes, 'A' is in the letters tuple\")\n"
      ],
      "metadata": {
        "colab": {
          "base_uri": "https://localhost:8080/"
        },
        "id": "Zy9rUjvw3--2",
        "outputId": "be922cce-f15e-443c-8992-36ba085e77ba"
      },
      "execution_count": 34,
      "outputs": [
        {
          "output_type": "stream",
          "name": "stdout",
          "text": [
            "Yes, 'A' is in the letters tuple\n"
          ]
        }
      ]
    },
    {
      "cell_type": "code",
      "source": [
        "##ADD TUPLE\n",
        "thistuple = (\"A\",\"B\",\"C\")\n",
        "y = list(thistuple)\n",
        "y.append(\"D\")\n",
        "thistuple = tuple(y)\n",
        "print(thistuple)"
      ],
      "metadata": {
        "colab": {
          "base_uri": "https://localhost:8080/"
        },
        "id": "xT0A1LBY5xm1",
        "outputId": "26ab2c78-1b4a-4323-fc79-bca67f70515b"
      },
      "execution_count": 37,
      "outputs": [
        {
          "output_type": "stream",
          "name": "stdout",
          "text": [
            "('A', 'B', 'C', 'D')\n"
          ]
        }
      ]
    },
    {
      "cell_type": "code",
      "source": [
        "## Add tuple to a tuple\n",
        "thistuple = (\"apple\", \"banana\", \"cherry\")\n",
        "y = (\"orange\",)\n",
        "thistuple += y\n",
        "\n",
        "print(thistuple)"
      ],
      "metadata": {
        "colab": {
          "base_uri": "https://localhost:8080/"
        },
        "id": "0JRATk7J6LZ-",
        "outputId": "366b2441-31a0-40f9-e57c-1ae03ef25172"
      },
      "execution_count": 38,
      "outputs": [
        {
          "output_type": "stream",
          "name": "stdout",
          "text": [
            "('apple', 'banana', 'cherry', 'orange')\n"
          ]
        }
      ]
    },
    {
      "cell_type": "code",
      "source": [
        "##remove items\n",
        "thistuple = (\"apple\", \"banana\", \"cherry\")\n",
        "y = list(thistuple)\n",
        "y.remove(\"apple\")\n",
        "thistuple = tuple(y)\n",
        "print(thistuple)"
      ],
      "metadata": {
        "colab": {
          "base_uri": "https://localhost:8080/"
        },
        "id": "A1Nwl2Wt6gWt",
        "outputId": "cb784160-035d-4a25-b167-4ab37c7ec403"
      },
      "execution_count": 40,
      "outputs": [
        {
          "output_type": "stream",
          "name": "stdout",
          "text": [
            "('banana', 'cherry')\n"
          ]
        }
      ]
    },
    {
      "cell_type": "code",
      "source": [
        "##Packing a tuple\n",
        "fruits = (\"apple\", \"banana\", \"cherry\")\n",
        "print(fruits)"
      ],
      "metadata": {
        "colab": {
          "base_uri": "https://localhost:8080/"
        },
        "id": "eKm7Vdp67tP9",
        "outputId": "3025c25d-956c-4a57-d3c0-267b0fcf16f4"
      },
      "execution_count": 44,
      "outputs": [
        {
          "output_type": "stream",
          "name": "stdout",
          "text": [
            "('apple', 'banana', 'cherry')\n"
          ]
        }
      ]
    },
    {
      "cell_type": "code",
      "source": [
        ""
      ],
      "metadata": {
        "id": "TS0K8k-P8InN"
      },
      "execution_count": null,
      "outputs": []
    }
  ]
}