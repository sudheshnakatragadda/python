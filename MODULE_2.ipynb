{
  "nbformat": 4,
  "nbformat_minor": 0,
  "metadata": {
    "colab": {
      "name": "MODULE-2",
      "provenance": [],
      "collapsed_sections": [],
      "authorship_tag": "ABX9TyP+GwaNh3tCw3MmRnbfD36z",
      "include_colab_link": true
    },
    "kernelspec": {
      "name": "python3",
      "display_name": "Python 3"
    },
    "language_info": {
      "name": "python"
    }
  },
  "cells": [
    {
      "cell_type": "markdown",
      "metadata": {
        "id": "view-in-github",
        "colab_type": "text"
      },
      "source": [
        "<a href=\"https://colab.research.google.com/github/sudheshnakatragadda/python/blob/main/MODULE_2.ipynb\" target=\"_parent\"><img src=\"https://colab.research.google.com/assets/colab-badge.svg\" alt=\"Open In Colab\"/></a>"
      ]
    },
    {
      "cell_type": "code",
      "execution_count": 50,
      "metadata": {
        "colab": {
          "base_uri": "https://localhost:8080/",
          "height": 130
        },
        "id": "-zFcEDbnmcKr",
        "outputId": "133da423-b61a-4d5a-93c8-e9d605107b4d"
      },
      "outputs": [
        {
          "output_type": "error",
          "ename": "IndentationError",
          "evalue": "ignored",
          "traceback": [
            "\u001b[0;36m  File \u001b[0;32m\"<ipython-input-50-46e48d804cb4>\"\u001b[0;36m, line \u001b[0;32m2\u001b[0m\n\u001b[0;31m    def nCr(a,b):\u001b[0m\n\u001b[0m    ^\u001b[0m\n\u001b[0;31mIndentationError\u001b[0m\u001b[0;31m:\u001b[0m unexpected indent\n"
          ]
        }
      ],
      "source": [
        "##Create a function which accepts two inputs from the user and compute in nCr\n",
        " def nCr(a,b):\n",
        "  return(fact(a)/fact(b) \n",
        "                *(fact(a-b)))\n",
        "  a=int(input(\"\"))\n",
        "  b=int(input(\"\"))\n",
        "  def fact(a):\n",
        "     res=1\n",
        "     for i in range(2,a+1):\n",
        "       res=res*i\n",
        "     return res\n",
        "print(int(nCr(a,b)))"
      ]
    },
    {
      "cell_type": "code",
      "source": [
        "##Program to get the difference between the two lists.\n",
        "def Diff(A, B):\n",
        "   print(\"Difference of two lists ::>\")\n",
        "   return (list(set(A) - set(B))) \n",
        "\n",
        "# Driver Code \n",
        "A=list()\n",
        "n1=int(input(\"Enter the size of the first List ::\"))\n",
        "\n",
        "print(\"Enter the Element of first List ::\")\n",
        "for i in range(int(n1)):\n",
        "   k=int(input(\"\"))\n",
        "   A.append(k)\n",
        "B=list()\n",
        "n2=int(input(\"Enter the size of the second List ::\"))\n",
        "print(\"Enter the Element of second List ::\")\n",
        "for i in range(int(n2)):\n",
        "   k=int(input(\"\"))\n",
        "   B.append(k)\n",
        "print(Diff(A, B)) "
      ],
      "metadata": {
        "colab": {
          "base_uri": "https://localhost:8080/"
        },
        "id": "_iDSWOawpGx4",
        "outputId": "d4972d41-c966-4d07-baf1-5c7f12e0bb2a"
      },
      "execution_count": 6,
      "outputs": [
        {
          "output_type": "stream",
          "name": "stdout",
          "text": [
            "Enter the size of the first List ::4\n",
            "Enter the Element of first List ::\n",
            "1\n",
            "2\n",
            "3\n",
            "4\n",
            "Enter the size of the second List ::3\n",
            "Enter the Element of second List ::\n",
            "1\n",
            "2\n",
            "3\n",
            "Difference of two lists ::>\n",
            "[4]\n"
          ]
        }
      ]
    },
    {
      "cell_type": "code",
      "source": [
        "def Diff(li1, li2):\n",
        "    return list(set(li1) - set(li2)) + list(set(li2) - set(li1))\n",
        " \n",
        "# Driver Code\n",
        "li1 = [10, 15, 20, 25, 30, 35, 40]\n",
        "li2 = [25, 40, 35]\n",
        "print(Diff(li1, li2))"
      ],
      "metadata": {
        "colab": {
          "base_uri": "https://localhost:8080/"
        },
        "id": "hUdTQM1SpaOT",
        "outputId": "a33d8916-f514-41f2-b921-74a826b4925a"
      },
      "execution_count": 18,
      "outputs": [
        {
          "output_type": "stream",
          "name": "stdout",
          "text": [
            "[10, 20, 30, 15]\n"
          ]
        }
      ]
    },
    {
      "cell_type": "code",
      "source": [
        "##Python program to create a list of tuples having first element as the number and second element as the square of the number\n",
        "\n",
        "list1 = [1, 2, 5, 6]\n",
        "res = [(val, pow(val, 2)) for val in list1]\n",
        "print(res)"
      ],
      "metadata": {
        "colab": {
          "base_uri": "https://localhost:8080/"
        },
        "id": "6J7qJaA4wJcv",
        "outputId": "3bedb2b1-07f2-4501-fe28-19e09f8c5052"
      },
      "execution_count": 51,
      "outputs": [
        {
          "output_type": "stream",
          "name": "stdout",
          "text": [
            "[(1, 1), (2, 4), (5, 25), (6, 36)]\n"
          ]
        }
      ]
    },
    {
      "cell_type": "code",
      "source": [
        "##x Program to remove a key from a dictionary\n",
        "myDict = {'a':1,'b':2,'c':3,'d':4}\n",
        "print(myDict)\n",
        "if 'a' in myDict: \n",
        "    del myDict['a']\n",
        "print(myDict)"
      ],
      "metadata": {
        "colab": {
          "base_uri": "https://localhost:8080/"
        },
        "id": "__Al5x1pw1o_",
        "outputId": "33d1fa1f-5553-454f-c425-62af99e1b753"
      },
      "execution_count": 53,
      "outputs": [
        {
          "output_type": "stream",
          "name": "stdout",
          "text": [
            "{'a': 1, 'b': 2, 'c': 3, 'd': 4}\n",
            "{'b': 2, 'c': 3, 'd': 4}\n"
          ]
        }
      ]
    },
    {
      "cell_type": "code",
      "source": [
        "##Given list of tuples, remove all the tuples with length K.\n",
        "\n",
        "test_list = [(4, 5), (4, ), (8, 6, 7), (1, ), (3, 4, 6, 7)]\n",
        "print(\"The original list : \" + str(test_list))\n",
        "K=1\n",
        "res = [ele for ele in test_list if len(ele) != K]\n",
        "print(\"Filtered list : \" + str(res))"
      ],
      "metadata": {
        "colab": {
          "base_uri": "https://localhost:8080/"
        },
        "id": "T0nJnitJx1l_",
        "outputId": "4916ba0d-4573-4e34-deb5-61db443d77cc"
      },
      "execution_count": 56,
      "outputs": [
        {
          "output_type": "stream",
          "name": "stdout",
          "text": [
            "The original list : [(4, 5), (4,), (8, 6, 7), (1,), (3, 4, 6, 7)]\n",
            "Filtered list : [(4, 5), (8, 6, 7), (3, 4, 6, 7)]\n"
          ]
        }
      ]
    },
    {
      "cell_type": "code",
      "source": [
        "##Program to get the maximum and minimum value in a dictionary\n",
        "dictionary = {\"a\": 5, \"b\": 2, \"c\": 8}\n",
        "min_key = min(dictionary, key=dictionary.get)\n",
        " \n",
        "print(min_key)\n",
        "\n",
        "print(dictionary.get(min_key))\n"
      ],
      "metadata": {
        "colab": {
          "base_uri": "https://localhost:8080/"
        },
        "id": "aRbCYKkYx52P",
        "outputId": "03806b6d-46a8-40d1-f579-041de7e5ba5a"
      },
      "execution_count": 58,
      "outputs": [
        {
          "output_type": "stream",
          "name": "stdout",
          "text": [
            "b\n",
            "2\n"
          ]
        }
      ]
    }
  ]
}